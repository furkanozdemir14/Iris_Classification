{
  "nbformat": 4,
  "nbformat_minor": 0,
  "metadata": {
    "colab": {
      "name": "EEM731_205281111018_FurkanÖZDEMİR_VizeÖdevi.ipynb",
      "provenance": [],
      "toc_visible": true,
      "authorship_tag": "ABX9TyO4GzAyGtL1NLVq8YxXWb2H",
      "include_colab_link": true
    },
    "kernelspec": {
      "name": "python3",
      "display_name": "Python 3"
    }
  },
  "cells": [
    {
      "cell_type": "markdown",
      "metadata": {
        "id": "view-in-github",
        "colab_type": "text"
      },
      "source": [
        "<a href=\"https://colab.research.google.com/github/furkanozdemir14/Iris_Classification/blob/main/Ir%C4%B1s_Classification.ipynb\" target=\"_parent\"><img src=\"https://colab.research.google.com/assets/colab-badge.svg\" alt=\"Open In Colab\"/></a>"
      ]
    },
    {
      "cell_type": "markdown",
      "metadata": {
        "id": "3tPLDPEM_aS5"
      },
      "source": [
        "Adım 1: NumPy, Pandas ve Matplotlib kütüphanelerinin içe aktarılması gerçekleştirilir."
      ]
    },
    {
      "cell_type": "code",
      "metadata": {
        "id": "hssqqLXU6pBH"
      },
      "source": [
        "import numpy as np\n",
        "import matplotlib.pyplot as plt\n",
        "import pandas as pd"
      ],
      "execution_count": 1,
      "outputs": []
    },
    {
      "cell_type": "markdown",
      "metadata": {
        "id": "UnP33oMg_3i7"
      },
      "source": [
        "2. Adım: Ödevde verilen veri kümesi için githubda bulunan aynı dataset IrisDataset.csv olarak içe aktarılmıştır. Daha sonra sonra, 4 bağımsız değişkeni X'e ve bağımlı değişken \"türler\" Y'ye atarız. Veri kümesinin ilk 5 satırı yazdırılır."
      ]
    },
    {
      "cell_type": "code",
      "metadata": {
        "colab": {
          "base_uri": "https://localhost:8080/",
          "height": 204
        },
        "id": "Mf7gxQnV9lWC",
        "outputId": "b269736d-9a6e-41ba-eb43-93bdd05475bc"
      },
      "source": [
        "dataset = pd.read_csv('https://raw.githubusercontent.com/mk-gurucharan/Classification/master/IrisDataset.csv')\n",
        "X = dataset.iloc[:,:4].values\n",
        "y = dataset['species'].values\n",
        "dataset.head(5)"
      ],
      "execution_count": 2,
      "outputs": [
        {
          "output_type": "execute_result",
          "data": {
            "text/html": [
              "<div>\n",
              "<style scoped>\n",
              "    .dataframe tbody tr th:only-of-type {\n",
              "        vertical-align: middle;\n",
              "    }\n",
              "\n",
              "    .dataframe tbody tr th {\n",
              "        vertical-align: top;\n",
              "    }\n",
              "\n",
              "    .dataframe thead th {\n",
              "        text-align: right;\n",
              "    }\n",
              "</style>\n",
              "<table border=\"1\" class=\"dataframe\">\n",
              "  <thead>\n",
              "    <tr style=\"text-align: right;\">\n",
              "      <th></th>\n",
              "      <th>sepal_length</th>\n",
              "      <th>sepal_width</th>\n",
              "      <th>petal_length</th>\n",
              "      <th>petal_width</th>\n",
              "      <th>species</th>\n",
              "    </tr>\n",
              "  </thead>\n",
              "  <tbody>\n",
              "    <tr>\n",
              "      <th>0</th>\n",
              "      <td>5.1</td>\n",
              "      <td>3.5</td>\n",
              "      <td>1.4</td>\n",
              "      <td>0.2</td>\n",
              "      <td>setosa</td>\n",
              "    </tr>\n",
              "    <tr>\n",
              "      <th>1</th>\n",
              "      <td>4.9</td>\n",
              "      <td>3.0</td>\n",
              "      <td>1.4</td>\n",
              "      <td>0.2</td>\n",
              "      <td>setosa</td>\n",
              "    </tr>\n",
              "    <tr>\n",
              "      <th>2</th>\n",
              "      <td>4.7</td>\n",
              "      <td>3.2</td>\n",
              "      <td>1.3</td>\n",
              "      <td>0.2</td>\n",
              "      <td>setosa</td>\n",
              "    </tr>\n",
              "    <tr>\n",
              "      <th>3</th>\n",
              "      <td>4.6</td>\n",
              "      <td>3.1</td>\n",
              "      <td>1.5</td>\n",
              "      <td>0.2</td>\n",
              "      <td>setosa</td>\n",
              "    </tr>\n",
              "    <tr>\n",
              "      <th>4</th>\n",
              "      <td>5.0</td>\n",
              "      <td>3.6</td>\n",
              "      <td>1.4</td>\n",
              "      <td>0.2</td>\n",
              "      <td>setosa</td>\n",
              "    </tr>\n",
              "  </tbody>\n",
              "</table>\n",
              "</div>"
            ],
            "text/plain": [
              "   sepal_length  sepal_width  petal_length  petal_width species\n",
              "0           5.1          3.5           1.4          0.2  setosa\n",
              "1           4.9          3.0           1.4          0.2  setosa\n",
              "2           4.7          3.2           1.3          0.2  setosa\n",
              "3           4.6          3.1           1.5          0.2  setosa\n",
              "4           5.0          3.6           1.4          0.2  setosa"
            ]
          },
          "metadata": {
            "tags": []
          },
          "execution_count": 2
        }
      ]
    },
    {
      "cell_type": "markdown",
      "metadata": {
        "id": "f3i4d-yDAZFr"
      },
      "source": [
        "Adım 3[18]: Veri setini Eğitim seti ve Test seti olarak ikiye bölüyoruz. Bu veri setinde 3 sınıfın her birinin 50 satırının olduğu 150 satır vardır.  Burada test_size = 0.5 değerine eşitlenerek her sınıf için olan verilerin % 50'sinin test seti olarak test amacıyla kullanılacağı ve geri kalan % 50'nin Naive Bayes sınıflandırma modelini eğitmek için eğitim seti olarak kullanılacaktır."
      ]
    },
    {
      "cell_type": "code",
      "metadata": {
        "id": "SEGeytdS9p9-"
      },
      "source": [
        "from sklearn.model_selection import train_test_split\n",
        "X_train, X_test, y_train, y_test = train_test_split(X, y, test_size = 0.5)"
      ],
      "execution_count": 18,
      "outputs": []
    },
    {
      "cell_type": "markdown",
      "metadata": {
        "id": "EgZJdTHpAYFa"
      },
      "source": [
        "Adım 4 [5]: Ön işleme yöntemi ile Veri kümesi, daha küçük bir aralığa ölçeklenir. Bunda, hem X_train hem de X_test değerleri, programın hızını artırmak için daha küçük değerlere ölçeklenir."
      ]
    },
    {
      "cell_type": "code",
      "metadata": {
        "id": "LapfKEGS9w4V"
      },
      "source": [
        "from sklearn.preprocessing import StandardScaler\n",
        "sc = StandardScaler()\n",
        "X_train = sc.fit_transform(X_train)\n",
        "X_test = sc.transform(X_test)"
      ],
      "execution_count": 5,
      "outputs": []
    },
    {
      "cell_type": "markdown",
      "metadata": {
        "id": "XT6HRP10IrSG"
      },
      "source": [
        "Adım 5[6]: Eğitim Setinde Naive Bayes Sınıflandırma modelini eğitme Bu adımda sklearn.naive_bayes kitaplığından kullanılan GaussianNB sınıfını içe aktarılır. Burada, GaussianNB sınıfını değişken sınıflandırıcıya atıyoruz ve X_train ve y_train değerlerini eğitim amacıyla uyuyoruz."
      ]
    },
    {
      "cell_type": "code",
      "metadata": {
        "colab": {
          "base_uri": "https://localhost:8080/"
        },
        "id": "6w3lU6Ep92Qt",
        "outputId": "61909c33-ec4b-4919-f268-edf4e2ee429e"
      },
      "source": [
        "from sklearn.naive_bayes import GaussianNB\n",
        "classifier = GaussianNB()\n",
        "classifier.fit(X_train, y_train)"
      ],
      "execution_count": 6,
      "outputs": [
        {
          "output_type": "execute_result",
          "data": {
            "text/plain": [
              "GaussianNB(priors=None, var_smoothing=1e-09)"
            ]
          },
          "metadata": {
            "tags": []
          },
          "execution_count": 6
        }
      ]
    },
    {
      "cell_type": "markdown",
      "metadata": {
        "id": "O7fH5iF9JAvn"
      },
      "source": [
        "Adım 6 [7]: Test seti sonuçlarının tahmin edilmesi Model eğitildikten sonra, Test kümesinin değerlerini tahmin etmek için classifier.predict () kullanırız ve tahmin edilen değerler y_pred değişkenine kaydedilir."
      ]
    },
    {
      "cell_type": "code",
      "metadata": {
        "colab": {
          "base_uri": "https://localhost:8080/"
        },
        "id": "SYauJhzb-HFU",
        "outputId": "c0383991-104b-4642-f765-473230b994d9"
      },
      "source": [
        "y_pred = classifier.predict(X_test) \n",
        "y_pred"
      ],
      "execution_count": 7,
      "outputs": [
        {
          "output_type": "execute_result",
          "data": {
            "text/plain": [
              "array(['versicolor', 'virginica', 'virginica', 'setosa', 'virginica',\n",
              "       'setosa', 'versicolor', 'versicolor', 'virginica', 'virginica',\n",
              "       'virginica', 'virginica', 'setosa', 'setosa', 'virginica',\n",
              "       'setosa', 'versicolor', 'versicolor', 'versicolor', 'virginica',\n",
              "       'setosa', 'setosa', 'virginica', 'virginica', 'versicolor',\n",
              "       'virginica', 'setosa', 'versicolor', 'setosa', 'versicolor',\n",
              "       'virginica', 'virginica', 'virginica', 'setosa', 'versicolor',\n",
              "       'virginica', 'versicolor', 'virginica', 'setosa', 'versicolor',\n",
              "       'versicolor', 'versicolor', 'versicolor', 'versicolor',\n",
              "       'versicolor', 'setosa', 'virginica', 'versicolor', 'setosa',\n",
              "       'setosa', 'virginica', 'versicolor', 'virginica', 'virginica',\n",
              "       'versicolor', 'setosa', 'setosa', 'virginica', 'versicolor',\n",
              "       'virginica', 'versicolor', 'versicolor', 'versicolor', 'setosa',\n",
              "       'virginica', 'setosa', 'versicolor', 'versicolor', 'setosa',\n",
              "       'virginica', 'setosa', 'setosa', 'virginica', 'setosa',\n",
              "       'virginica'], dtype='<U10')"
            ]
          },
          "metadata": {
            "tags": []
          },
          "execution_count": 7
        }
      ]
    },
    {
      "cell_type": "markdown",
      "metadata": {
        "id": "x9uM4ztmKFCS"
      },
      "source": [
        "Adım 7 [8]: Karışıklık matrisi ve başarılı tahmin sonucu hesaplanarak, eğitilen modelin doğruluğu görülür ve karışıklık matrisi çizilmiş olur."
      ]
    },
    {
      "cell_type": "code",
      "metadata": {
        "colab": {
          "base_uri": "https://localhost:8080/"
        },
        "id": "clCkC6eJ-XjN",
        "outputId": "062da94f-3c84-4b79-cfd8-4e2bf64a7fca"
      },
      "source": [
        "from sklearn.metrics import confusion_matrix\n",
        "cm = confusion_matrix(y_test, y_pred)\n",
        "from sklearn.metrics import accuracy_score \n",
        "print (\"Accuracy : \", accuracy_score(y_test, y_pred))\n",
        "cm"
      ],
      "execution_count": 8,
      "outputs": [
        {
          "output_type": "stream",
          "text": [
            "Accuracy :  0.96\n"
          ],
          "name": "stdout"
        },
        {
          "output_type": "execute_result",
          "data": {
            "text/plain": [
              "array([[22,  0,  0],\n",
              "       [ 0, 24,  1],\n",
              "       [ 0,  2, 26]])"
            ]
          },
          "metadata": {
            "tags": []
          },
          "execution_count": 8
        }
      ]
    },
    {
      "cell_type": "markdown",
      "metadata": {
        "id": "NjcoQd8ZK4Qk"
      },
      "source": [
        "Yukarıda da görüldüğü gibi, modelimiz %96 oranda başarılı bir sınıflandırma gerçekleştirmiştir."
      ]
    },
    {
      "cell_type": "markdown",
      "metadata": {
        "id": "jB3-arGRLGjE"
      },
      "source": [
        "Adım 8 [14]: Gerçek değerler, öngörülen değerler ile karşılaştırılarak hem orijinal Test setinin (y_test) hem de tahmin edilen sonuçların (y_pred) sınıflandırılmış değerleri ile bir Pandas DataFrame oluşturulur."
      ]
    },
    {
      "cell_type": "code",
      "metadata": {
        "colab": {
          "base_uri": "https://localhost:8080/",
          "height": 514
        },
        "id": "BT1luQ1L-cW3",
        "outputId": "4c97ce52-cb63-4a09-8bf8-c35ab79f99a8"
      },
      "source": [
        "df = pd.DataFrame({'Real Values':y_test, 'Predicted Values':y_pred})\n",
        "df.head(15)"
      ],
      "execution_count": 14,
      "outputs": [
        {
          "output_type": "execute_result",
          "data": {
            "text/html": [
              "<div>\n",
              "<style scoped>\n",
              "    .dataframe tbody tr th:only-of-type {\n",
              "        vertical-align: middle;\n",
              "    }\n",
              "\n",
              "    .dataframe tbody tr th {\n",
              "        vertical-align: top;\n",
              "    }\n",
              "\n",
              "    .dataframe thead th {\n",
              "        text-align: right;\n",
              "    }\n",
              "</style>\n",
              "<table border=\"1\" class=\"dataframe\">\n",
              "  <thead>\n",
              "    <tr style=\"text-align: right;\">\n",
              "      <th></th>\n",
              "      <th>Real Values</th>\n",
              "      <th>Predicted Values</th>\n",
              "    </tr>\n",
              "  </thead>\n",
              "  <tbody>\n",
              "    <tr>\n",
              "      <th>0</th>\n",
              "      <td>versicolor</td>\n",
              "      <td>versicolor</td>\n",
              "    </tr>\n",
              "    <tr>\n",
              "      <th>1</th>\n",
              "      <td>virginica</td>\n",
              "      <td>virginica</td>\n",
              "    </tr>\n",
              "    <tr>\n",
              "      <th>2</th>\n",
              "      <td>virginica</td>\n",
              "      <td>virginica</td>\n",
              "    </tr>\n",
              "    <tr>\n",
              "      <th>3</th>\n",
              "      <td>setosa</td>\n",
              "      <td>setosa</td>\n",
              "    </tr>\n",
              "    <tr>\n",
              "      <th>4</th>\n",
              "      <td>virginica</td>\n",
              "      <td>virginica</td>\n",
              "    </tr>\n",
              "    <tr>\n",
              "      <th>5</th>\n",
              "      <td>setosa</td>\n",
              "      <td>setosa</td>\n",
              "    </tr>\n",
              "    <tr>\n",
              "      <th>6</th>\n",
              "      <td>versicolor</td>\n",
              "      <td>versicolor</td>\n",
              "    </tr>\n",
              "    <tr>\n",
              "      <th>7</th>\n",
              "      <td>virginica</td>\n",
              "      <td>versicolor</td>\n",
              "    </tr>\n",
              "    <tr>\n",
              "      <th>8</th>\n",
              "      <td>versicolor</td>\n",
              "      <td>virginica</td>\n",
              "    </tr>\n",
              "    <tr>\n",
              "      <th>9</th>\n",
              "      <td>virginica</td>\n",
              "      <td>virginica</td>\n",
              "    </tr>\n",
              "    <tr>\n",
              "      <th>10</th>\n",
              "      <td>virginica</td>\n",
              "      <td>virginica</td>\n",
              "    </tr>\n",
              "    <tr>\n",
              "      <th>11</th>\n",
              "      <td>virginica</td>\n",
              "      <td>virginica</td>\n",
              "    </tr>\n",
              "    <tr>\n",
              "      <th>12</th>\n",
              "      <td>setosa</td>\n",
              "      <td>setosa</td>\n",
              "    </tr>\n",
              "    <tr>\n",
              "      <th>13</th>\n",
              "      <td>setosa</td>\n",
              "      <td>setosa</td>\n",
              "    </tr>\n",
              "    <tr>\n",
              "      <th>14</th>\n",
              "      <td>virginica</td>\n",
              "      <td>virginica</td>\n",
              "    </tr>\n",
              "  </tbody>\n",
              "</table>\n",
              "</div>"
            ],
            "text/plain": [
              "   Real Values Predicted Values\n",
              "0   versicolor       versicolor\n",
              "1    virginica        virginica\n",
              "2    virginica        virginica\n",
              "3       setosa           setosa\n",
              "4    virginica        virginica\n",
              "5       setosa           setosa\n",
              "6   versicolor       versicolor\n",
              "7    virginica       versicolor\n",
              "8   versicolor        virginica\n",
              "9    virginica        virginica\n",
              "10   virginica        virginica\n",
              "11   virginica        virginica\n",
              "12      setosa           setosa\n",
              "13      setosa           setosa\n",
              "14   virginica        virginica"
            ]
          },
          "metadata": {
            "tags": []
          },
          "execution_count": 14
        }
      ]
    },
    {
      "cell_type": "markdown",
      "metadata": {
        "id": "A0slF1pVOOLw"
      },
      "source": [
        "Adım 9 [25]: Kuadratik sınıflandırıcı ile iki veya daha fazla nesne/olay sınıfının ölçümlerini ayırmak için kuadratik bir karar yüzeyi kullanan istatistiksel sınıflandırıcıdır. \n",
        "İşlem uygulandığında %50 eğitim ve %50 test verileri için başarım oranı 0,946 olduğu görülmüştür."
      ]
    },
    {
      "cell_type": "code",
      "metadata": {
        "colab": {
          "base_uri": "https://localhost:8080/"
        },
        "id": "ocynV8cfMa_2",
        "outputId": "a02f402d-e0bb-43aa-8b73-874600315e2b"
      },
      "source": [
        "# Fitting QDA to the Training set\n",
        "from sklearn.discriminant_analysis import QuadraticDiscriminantAnalysis \n",
        "\n",
        "classifier = QuadraticDiscriminantAnalysis() \n",
        "classifier.fit(X_train, y_train)\n",
        "# Predicting the Test set results\n",
        "y_pred = classifier.predict(X_test)\n",
        "#Checking accuracy\n",
        "from sklearn.metrics import accuracy_score\n",
        "print(accuracy_score(y_test,y_pred))"
      ],
      "execution_count": 25,
      "outputs": [
        {
          "output_type": "stream",
          "text": [
            "0.9466666666666667\n"
          ],
          "name": "stdout"
        }
      ]
    },
    {
      "cell_type": "markdown",
      "metadata": {
        "id": "OqGG2vDiPFtd"
      },
      "source": [
        "Adım 10 [26]: K-En Yakın Komşu sınıflandırıcısı kullanan modele işlem uygulandığında %50 eğitim ve %50 test verileri için başarım oranı 0,96 olduğu görülmüştür."
      ]
    },
    {
      "cell_type": "code",
      "metadata": {
        "colab": {
          "base_uri": "https://localhost:8080/"
        },
        "id": "mJoEHSqkO-GR",
        "outputId": "821c9903-cc39-4ded-9a47-eb6ce183f582"
      },
      "source": [
        "from sklearn import neighbors\n",
        "classifier=neighbors.KNeighborsClassifier()\n",
        "classifier.fit(X_train,y_train)\n",
        "predictions=classifier.predict(X_test)\n",
        "from sklearn.metrics import accuracy_score\n",
        "print(accuracy_score(y_test,predictions))"
      ],
      "execution_count": 26,
      "outputs": [
        {
          "output_type": "stream",
          "text": [
            "0.96\n"
          ],
          "name": "stdout"
        }
      ]
    }
  ]
}